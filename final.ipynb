{
 "cells": [
  {
   "cell_type": "markdown",
   "metadata": {},
   "source": [
    "<h3>Data Pre-processing</h3>"
   ]
  },
  {
   "cell_type": "code",
   "execution_count": 1,
   "metadata": {},
   "outputs": [
    {
     "name": "stdout",
     "output_type": "stream",
     "text": [
      "df.shape =  (124989, 6)\n"
     ]
    },
    {
     "data": {
      "text/html": [
       "<div>\n",
       "<style scoped>\n",
       "    .dataframe tbody tr th:only-of-type {\n",
       "        vertical-align: middle;\n",
       "    }\n",
       "\n",
       "    .dataframe tbody tr th {\n",
       "        vertical-align: top;\n",
       "    }\n",
       "\n",
       "    .dataframe thead th {\n",
       "        text-align: right;\n",
       "    }\n",
       "</style>\n",
       "<table border=\"1\" class=\"dataframe\">\n",
       "  <thead>\n",
       "    <tr style=\"text-align: right;\">\n",
       "      <th></th>\n",
       "      <th>authors</th>\n",
       "      <th>category</th>\n",
       "      <th>date</th>\n",
       "      <th>headline</th>\n",
       "      <th>link</th>\n",
       "      <th>short_description</th>\n",
       "    </tr>\n",
       "  </thead>\n",
       "  <tbody>\n",
       "    <tr>\n",
       "      <th>0</th>\n",
       "      <td>Melissa Jeltsen</td>\n",
       "      <td>CRIME</td>\n",
       "      <td>2018-05-26</td>\n",
       "      <td>There Were 2 Mass Shootings In Texas Last Week...</td>\n",
       "      <td>https://www.huffingtonpost.com/entry/texas-ama...</td>\n",
       "      <td>She left her husband. He killed their children...</td>\n",
       "    </tr>\n",
       "    <tr>\n",
       "      <th>1</th>\n",
       "      <td>Andy McDonald</td>\n",
       "      <td>ENTERTAINMENT</td>\n",
       "      <td>2018-05-26</td>\n",
       "      <td>Will Smith Joins Diplo And Nicky Jam For The 2...</td>\n",
       "      <td>https://www.huffingtonpost.com/entry/will-smit...</td>\n",
       "      <td>Of course it has a song.</td>\n",
       "    </tr>\n",
       "    <tr>\n",
       "      <th>2</th>\n",
       "      <td>Ron Dicker</td>\n",
       "      <td>ENTERTAINMENT</td>\n",
       "      <td>2018-05-26</td>\n",
       "      <td>Hugh Grant Marries For The First Time At Age 57</td>\n",
       "      <td>https://www.huffingtonpost.com/entry/hugh-gran...</td>\n",
       "      <td>The actor and his longtime girlfriend Anna Ebe...</td>\n",
       "    </tr>\n",
       "    <tr>\n",
       "      <th>3</th>\n",
       "      <td>Ron Dicker</td>\n",
       "      <td>ENTERTAINMENT</td>\n",
       "      <td>2018-05-26</td>\n",
       "      <td>Jim Carrey Blasts 'Castrato' Adam Schiff And D...</td>\n",
       "      <td>https://www.huffingtonpost.com/entry/jim-carre...</td>\n",
       "      <td>The actor gives Dems an ass-kicking for not fi...</td>\n",
       "    </tr>\n",
       "    <tr>\n",
       "      <th>4</th>\n",
       "      <td>Ron Dicker</td>\n",
       "      <td>ENTERTAINMENT</td>\n",
       "      <td>2018-05-26</td>\n",
       "      <td>Julianna Margulies Uses Donald Trump Poop Bags...</td>\n",
       "      <td>https://www.huffingtonpost.com/entry/julianna-...</td>\n",
       "      <td>The \"Dietland\" actress said using the bags is ...</td>\n",
       "    </tr>\n",
       "  </tbody>\n",
       "</table>\n",
       "</div>"
      ],
      "text/plain": [
       "           authors       category       date  \\\n",
       "0  Melissa Jeltsen          CRIME 2018-05-26   \n",
       "1    Andy McDonald  ENTERTAINMENT 2018-05-26   \n",
       "2       Ron Dicker  ENTERTAINMENT 2018-05-26   \n",
       "3       Ron Dicker  ENTERTAINMENT 2018-05-26   \n",
       "4       Ron Dicker  ENTERTAINMENT 2018-05-26   \n",
       "\n",
       "                                            headline  \\\n",
       "0  There Were 2 Mass Shootings In Texas Last Week...   \n",
       "1  Will Smith Joins Diplo And Nicky Jam For The 2...   \n",
       "2    Hugh Grant Marries For The First Time At Age 57   \n",
       "3  Jim Carrey Blasts 'Castrato' Adam Schiff And D...   \n",
       "4  Julianna Margulies Uses Donald Trump Poop Bags...   \n",
       "\n",
       "                                                link  \\\n",
       "0  https://www.huffingtonpost.com/entry/texas-ama...   \n",
       "1  https://www.huffingtonpost.com/entry/will-smit...   \n",
       "2  https://www.huffingtonpost.com/entry/hugh-gran...   \n",
       "3  https://www.huffingtonpost.com/entry/jim-carre...   \n",
       "4  https://www.huffingtonpost.com/entry/julianna-...   \n",
       "\n",
       "                                   short_description  \n",
       "0  She left her husband. He killed their children...  \n",
       "1                           Of course it has a song.  \n",
       "2  The actor and his longtime girlfriend Anna Ebe...  \n",
       "3  The actor gives Dems an ass-kicking for not fi...  \n",
       "4  The \"Dietland\" actress said using the bags is ...  "
      ]
     },
     "execution_count": 1,
     "metadata": {},
     "output_type": "execute_result"
    }
   ],
   "source": [
    "import pandas as pd\n",
    "\n",
    "df = pd.read_json(\"../News_Category_Dataset.json\", lines=True)\n",
    "print(\"df.shape = \", df.shape)\n",
    "df.head()"
   ]
  },
  {
   "cell_type": "code",
   "execution_count": 2,
   "metadata": {},
   "outputs": [
    {
     "name": "stdout",
     "output_type": "stream",
     "text": [
      "Total Categories :  31\n",
      "category\n",
      "ARTS               1509\n",
      "ARTS & CULTURE     1339\n",
      "BLACK VOICES       3858\n",
      "BUSINESS           4254\n",
      "COLLEGE            1144\n",
      "COMEDY             3971\n",
      "CRIME              2893\n",
      "EDUCATION          1004\n",
      "ENTERTAINMENT     14257\n",
      "FIFTY              1401\n",
      "GOOD NEWS          1398\n",
      "GREEN              2622\n",
      "HEALTHY LIVING     6694\n",
      "IMPACT             2602\n",
      "LATINO VOICES      1129\n",
      "MEDIA              2815\n",
      "PARENTS            3955\n",
      "POLITICS          32739\n",
      "QUEER VOICES       4995\n",
      "RELIGION           2556\n",
      "SCIENCE            1381\n",
      "SPORTS             4167\n",
      "STYLE              2254\n",
      "TASTE              2096\n",
      "TECH               1231\n",
      "THE WORLDPOST      3664\n",
      "TRAVEL             2145\n",
      "WEIRD NEWS         2670\n",
      "WOMEN              3490\n",
      "WORLD NEWS         2177\n",
      "WORLDPOST          2579\n",
      "dtype: int64\n"
     ]
    }
   ],
   "source": [
    "categories = df.groupby('category')\n",
    "print(\"Total Categories : \", categories.ngroups)\n",
    "print(categories.size())"
   ]
  },
  {
   "cell_type": "code",
   "execution_count": 3,
   "metadata": {},
   "outputs": [
    {
     "name": "stdout",
     "output_type": "stream",
     "text": [
      "Total Categories :  30\n",
      "category\n",
      "ARTS               1509\n",
      "ARTS & CULTURE     1339\n",
      "BLACK VOICES       3858\n",
      "BUSINESS           4254\n",
      "COLLEGE            1144\n",
      "COMEDY             3971\n",
      "CRIME              2893\n",
      "EDUCATION          1004\n",
      "ENTERTAINMENT     14257\n",
      "FIFTY              1401\n",
      "GOOD NEWS          1398\n",
      "GREEN              2622\n",
      "HEALTHY LIVING     6694\n",
      "IMPACT             2602\n",
      "LATINO VOICES      1129\n",
      "MEDIA              2815\n",
      "PARENTS            3955\n",
      "POLITICS          32739\n",
      "QUEER VOICES       4995\n",
      "RELIGION           2556\n",
      "SCIENCE            1381\n",
      "SPORTS             4167\n",
      "STYLE              2254\n",
      "TASTE              2096\n",
      "TECH               1231\n",
      "TRAVEL             2145\n",
      "WEIRD NEWS         2670\n",
      "WOMEN              3490\n",
      "WORLD NEWS         2177\n",
      "WORLDPOST          6243\n",
      "dtype: int64\n"
     ]
    }
   ],
   "source": [
    "#from the above column we can see that there two columns which are same but with different names i.e WORLDPOST and THE WORLDPOST\n",
    "#combining THE WORLDPOST and WORLDPOST\n",
    "\n",
    "df.category = df.category.map(lambda x: \"WORLDPOST\" if x == \"THE WORLDPOST\" else x)\n",
    "\n",
    "categories = df.groupby('category')\n",
    "print(\"Total Categories : \", categories.ngroups)\n",
    "print(categories.size())"
   ]
  },
  {
   "cell_type": "code",
   "execution_count": 5,
   "metadata": {},
   "outputs": [
    {
     "data": {
      "image/png": "[encoded data removed]",
      "text/plain": [
       "<matplotlib.figure.Figure at 0x7fe70470c780>"
      ]
     },
     "metadata": {},
     "output_type": "display_data"
    }
   ],
   "source": [
    "#Now we have 30 categories\n",
    "#Plotting the number of each category\n",
    "\n",
    "import matplotlib.pyplot as plt\n",
    "\n",
    "fig = plt.figure(figsize=(20,5))\n",
    "df.groupby('category').headline.count().plot.bar(ylim=0)\n",
    "plt.show()"
   ]
  },
  {
   "cell_type": "markdown",
   "metadata": {},
   "source": [
    "<h6>We can see that the number of news from POLITICS and ENTERTAINMENT is much larger than other categories</h6>"
   ]
  },
  {
   "cell_type": "code",
   "execution_count": 6,
   "metadata": {},
   "outputs": [],
   "source": [
    "#Now, combining the texts of headline and short_description into one single text column.\n",
    "#Then we can delete the columns which we dont need such as authors, date, etc.\n",
    "\n",
    "df['text'] = df.headline + \" \" + df.short_description\n",
    "del df['authors']\n",
    "del df['date']\n",
    "del df['headline']\n",
    "del df['link']\n",
    "del df['short_description']\n",
    "\n",
    "categories_num = df.groupby('category').size().index.tolist()\n",
    "category_int = {}\n",
    "int_category = {}\n",
    "for i, k in enumerate(categories_num):\n",
    "    category_int.update({k:i})\n",
    "    int_category.update({i:k})\n",
    "    \n",
    "df['category2id'] = df['category'].apply(lambda x: category_int[x])"
   ]
  },
  {
   "cell_type": "code",
   "execution_count": 7,
   "metadata": {},
   "outputs": [
    {
     "name": "stdout",
     "output_type": "stream",
     "text": [
      "Training dataset:  93741\n",
      "Test dataset:  31248\n"
     ]
    }
   ],
   "source": [
    "#Now, splitting the data into training and testing data.\n",
    "\n",
    "from sklearn.model_selection import train_test_split\n",
    "\n",
    "X_train, X_test, Y_train, Y_test = train_test_split(\n",
    "    df['text'], \n",
    "    df['category2id'], \n",
    "    random_state = 1\n",
    ")\n",
    "\n",
    "print(\"Training dataset: \", X_train.shape[0])\n",
    "print(\"Test dataset: \", X_test.shape[0])"
   ]
  },
  {
   "cell_type": "code",
   "execution_count": 8,
   "metadata": {},
   "outputs": [],
   "source": [
    "#Now we will convert the text documents to a matrix of token counts\n",
    "\n",
    "from sklearn.feature_extraction.text import CountVectorizer\n",
    "\n",
    "count_vector = CountVectorizer(stop_words = 'english')\n",
    "training_data = count_vector.fit_transform(X_train)\n",
    "testing_data = count_vector.transform(X_test)"
   ]
  },
  {
   "cell_type": "markdown",
   "metadata": {},
   "source": [
    "<h2>Applying ML Algorithms</h2>"
   ]
  },
  {
   "cell_type": "markdown",
   "metadata": {},
   "source": [
    "<h3> 1. Naive Bayes</h3>"
   ]
  },
  {
   "cell_type": "code",
   "execution_count": 9,
   "metadata": {},
   "outputs": [
    {
     "data": {
      "text/plain": [
       "MultinomialNB(alpha=1.0, class_prior=None, fit_prior=False)"
      ]
     },
     "execution_count": 9,
     "metadata": {},
     "output_type": "execute_result"
    }
   ],
   "source": [
    "from sklearn.naive_bayes import MultinomialNB\n",
    "\n",
    "naive_bayes = MultinomialNB(fit_prior=False)\n",
    "naive_bayes.fit(training_data, Y_train)"
   ]
  },
  {
   "cell_type": "code",
   "execution_count": 10,
   "metadata": {},
   "outputs": [
    {
     "data": {
      "text/plain": [
       "array([ 8,  8, 17, ..., 19,  8,  8])"
      ]
     },
     "execution_count": 10,
     "metadata": {},
     "output_type": "execute_result"
    }
   ],
   "source": [
    "predictions_NB = naive_bayes.predict(testing_data)\n",
    "predictions_NB"
   ]
  },
  {
   "cell_type": "code",
   "execution_count": 11,
   "metadata": {},
   "outputs": [
    {
     "name": "stdout",
     "output_type": "stream",
     "text": [
      "Accuracy score:  0.5934779825908858\n",
      "Recall score:  0.5934779825908858\n",
      "Precision score:  0.5925939017901466\n",
      "F1 score:  0.5633282094869992\n",
      "\n",
      "\n",
      "                precision    recall  f1-score   support\n",
      "\n",
      "         CRIME       0.53      0.24      0.33       364\n",
      " ENTERTAINMENT       0.45      0.06      0.11       326\n",
      "    WORLD NEWS       0.48      0.33      0.39       919\n",
      "        IMPACT       0.48      0.55      0.51      1025\n",
      "      POLITICS       0.59      0.20      0.30       241\n",
      "    WEIRD NEWS       0.59      0.30      0.40       974\n",
      "  BLACK VOICES       0.54      0.63      0.58       774\n",
      "         WOMEN       0.44      0.18      0.26       238\n",
      "        COMEDY       0.56      0.81      0.66      3565\n",
      "  QUEER VOICES       0.45      0.11      0.17       351\n",
      "        SPORTS       0.50      0.12      0.19       340\n",
      "      BUSINESS       0.52      0.44      0.47       692\n",
      "        TRAVEL       0.46      0.72      0.56      1709\n",
      "         MEDIA       0.39      0.22      0.28       665\n",
      "          TECH       0.72      0.07      0.13       290\n",
      "      RELIGION       0.63      0.33      0.43       724\n",
      "       SCIENCE       0.47      0.63      0.54       986\n",
      " LATINO VOICES       0.69      0.86      0.77      8220\n",
      "     EDUCATION       0.66      0.61      0.63      1246\n",
      "       COLLEGE       0.71      0.35      0.47       703\n",
      "       PARENTS       0.68      0.23      0.34       354\n",
      "ARTS & CULTURE       0.72      0.66      0.69       993\n",
      "         STYLE       0.73      0.34      0.47       588\n",
      "         GREEN       0.72      0.60      0.65       535\n",
      "         TASTE       0.69      0.15      0.25       305\n",
      "HEALTHY LIVING       0.64      0.51      0.56       535\n",
      "     WORLDPOST       0.48      0.22      0.31       678\n",
      "     GOOD NEWS       0.46      0.31      0.37       825\n",
      "         FIFTY       0.56      0.10      0.16       526\n",
      "          ARTS       0.53      0.69      0.60      1557\n",
      "\n",
      "   avg / total       0.59      0.59      0.56     31248\n",
      "\n"
     ]
    }
   ],
   "source": [
    "from sklearn.metrics import accuracy_score, recall_score, precision_score, f1_score, classification_report\n",
    "\n",
    "print(\"Accuracy score: \", accuracy_score(Y_test, predictions_NB))\n",
    "print(\"Recall score: \", recall_score(Y_test, predictions_NB, average = 'weighted'))\n",
    "print(\"Precision score: \", precision_score(Y_test, predictions_NB, average = 'weighted'))\n",
    "print(\"F1 score: \", f1_score(Y_test, predictions_NB, average = 'weighted'))\n",
    "print(\"\\n\")\n",
    "print(classification_report(Y_test, predictions_NB, target_names=df['category'].unique()))"
   ]
  },
  {
   "cell_type": "markdown",
   "metadata": {},
   "source": [
    "<h3> 2. Stochastic Gradient Descent </h3>"
   ]
  },
  {
   "cell_type": "code",
   "execution_count": 12,
   "metadata": {},
   "outputs": [
    {
     "name": "stderr",
     "output_type": "stream",
     "text": [
      "/home/kushaldeb/anaconda3/lib/python3.6/site-packages/sklearn/linear_model/stochastic_gradient.py:128: FutureWarning: max_iter and tol parameters have been added in <class 'sklearn.linear_model.stochastic_gradient.SGDClassifier'> in 0.19. If both are left unset, they default to max_iter=5 and tol=None. If tol is not None, max_iter defaults to max_iter=1000. From 0.21, default max_iter will be 1000, and default tol will be 1e-3.\n",
      "  \"and default tol will be 1e-3.\" % type(self), FutureWarning)\n"
     ]
    },
    {
     "data": {
      "text/plain": [
       "SGDClassifier(alpha=0.0001, average=False, class_weight=None, epsilon=0.1,\n",
       "       eta0=0.0, fit_intercept=True, l1_ratio=0.15,\n",
       "       learning_rate='optimal', loss='hinge', max_iter=None, n_iter=None,\n",
       "       n_jobs=1, penalty='l2', power_t=0.5, random_state=None,\n",
       "       shuffle=True, tol=None, verbose=0, warm_start=False)"
      ]
     },
     "execution_count": 12,
     "metadata": {},
     "output_type": "execute_result"
    }
   ],
   "source": [
    "from sklearn.linear_model import SGDClassifier\n",
    "\n",
    "sgd = SGDClassifier()\n",
    "sgd.fit(training_data, Y_train)"
   ]
  },
  {
   "cell_type": "code",
   "execution_count": 13,
   "metadata": {},
   "outputs": [
    {
     "data": {
      "text/plain": [
       "array([26,  8, 19, ..., 17,  8,  8])"
      ]
     },
     "execution_count": 13,
     "metadata": {},
     "output_type": "execute_result"
    }
   ],
   "source": [
    "predictions_sgd = sgd.predict(testing_data)\n",
    "predictions_sgd"
   ]
  },
  {
   "cell_type": "code",
   "execution_count": 14,
   "metadata": {},
   "outputs": [
    {
     "name": "stdout",
     "output_type": "stream",
     "text": [
      "Accuracy score:  0.5987583205325141\n",
      "Recall score:  0.5987583205325141\n",
      "Precision score:  0.5843972447180078\n",
      "F1 score:  0.5813856378494302\n",
      "\n",
      "\n",
      "                precision    recall  f1-score   support\n",
      "\n",
      "         CRIME       0.53      0.29      0.37       364\n",
      " ENTERTAINMENT       0.41      0.21      0.28       326\n",
      "    WORLD NEWS       0.51      0.40      0.45       919\n",
      "        IMPACT       0.53      0.49      0.51      1025\n",
      "      POLITICS       0.49      0.40      0.44       241\n",
      "    WEIRD NEWS       0.48      0.38      0.42       974\n",
      "  BLACK VOICES       0.60      0.47      0.53       774\n",
      "         WOMEN       0.50      0.33      0.40       238\n",
      "        COMEDY       0.57      0.78      0.66      3565\n",
      "  QUEER VOICES       0.51      0.22      0.30       351\n",
      "        SPORTS       0.36      0.24      0.28       340\n",
      "      BUSINESS       0.50      0.37      0.43       692\n",
      "        TRAVEL       0.51      0.61      0.56      1709\n",
      "         MEDIA       0.39      0.16      0.23       665\n",
      "          TECH       0.61      0.30      0.40       290\n",
      "      RELIGION       0.59      0.41      0.48       724\n",
      "       SCIENCE       0.59      0.57      0.58       986\n",
      " LATINO VOICES       0.70      0.85      0.77      8220\n",
      "     EDUCATION       0.76      0.69      0.72      1246\n",
      "       COLLEGE       0.56      0.45      0.50       703\n",
      "       PARENTS       0.53      0.38      0.44       354\n",
      "ARTS & CULTURE       0.63      0.72      0.67       993\n",
      "         STYLE       0.52      0.48      0.50       588\n",
      "         GREEN       0.64      0.65      0.64       535\n",
      "         TASTE       0.56      0.34      0.42       305\n",
      "HEALTHY LIVING       0.59      0.49      0.54       535\n",
      "     WORLDPOST       0.37      0.32      0.34       678\n",
      "     GOOD NEWS       0.41      0.30      0.35       825\n",
      "         FIFTY       0.49      0.22      0.31       526\n",
      "          ARTS       0.56      0.58      0.57      1557\n",
      "\n",
      "   avg / total       0.58      0.60      0.58     31248\n",
      "\n"
     ]
    }
   ],
   "source": [
    "print(\"Accuracy score: \", accuracy_score(Y_test, predictions_sgd))\n",
    "print(\"Recall score: \", recall_score(Y_test, predictions_sgd, average = 'weighted'))\n",
    "print(\"Precision score: \", precision_score(Y_test, predictions_sgd, average = 'weighted'))\n",
    "print(\"F1 score: \", f1_score(Y_test, predictions_sgd, average = 'weighted'))\n",
    "print(\"\\n\")\n",
    "print(classification_report(Y_test, predictions_sgd, target_names=df['category'].unique()))"
   ]
  },
  {
   "cell_type": "markdown",
   "metadata": {},
   "source": [
    "<h3>3. Multiclass Logistic Regression</h3>"
   ]
  },
  {
   "cell_type": "code",
   "execution_count": 15,
   "metadata": {},
   "outputs": [
    {
     "name": "stderr",
     "output_type": "stream",
     "text": [
      "/home/kushaldeb/anaconda3/lib/python3.6/site-packages/sklearn/linear_model/sag.py:326: ConvergenceWarning: The max_iter was reached which means the coef_ did not converge\n",
      "  \"the coef_ did not converge\", ConvergenceWarning)\n"
     ]
    },
    {
     "data": {
      "text/plain": [
       "LogisticRegression(C=1.0, class_weight=None, dual=False, fit_intercept=True,\n",
       "          intercept_scaling=1, max_iter=100, multi_class='multinomial',\n",
       "          n_jobs=1, penalty='l2', random_state=None, solver='saga',\n",
       "          tol=0.0001, verbose=0, warm_start=False)"
      ]
     },
     "execution_count": 15,
     "metadata": {},
     "output_type": "execute_result"
    }
   ],
   "source": [
    "from sklearn.linear_model import LogisticRegression\n",
    "\n",
    "logistic_regression = LogisticRegression(multi_class='multinomial', solver='saga')\n",
    "logistic_regression.fit(training_data, Y_train)"
   ]
  },
  {
   "cell_type": "code",
   "execution_count": 16,
   "metadata": {},
   "outputs": [
    {
     "data": {
      "text/plain": [
       "array([ 8,  8, 19, ...,  8,  8,  8])"
      ]
     },
     "execution_count": 16,
     "metadata": {},
     "output_type": "execute_result"
    }
   ],
   "source": [
    "predictions_logr = logistic_regression.predict(testing_data)\n",
    "predictions_logr"
   ]
  },
  {
   "cell_type": "code",
   "execution_count": 17,
   "metadata": {},
   "outputs": [
    {
     "name": "stdout",
     "output_type": "stream",
     "text": [
      "Accuracy score:  0.6057667690732207\n",
      "Recall score:  0.6057667690732207\n",
      "Precision score:  0.5937661992141541\n",
      "F1 score:  0.5942054732924906\n",
      "\n",
      "\n",
      "                precision    recall  f1-score   support\n",
      "\n",
      "         CRIME       0.48      0.33      0.39       364\n",
      " ENTERTAINMENT       0.41      0.23      0.29       326\n",
      "    WORLD NEWS       0.49      0.43      0.46       919\n",
      "        IMPACT       0.51      0.52      0.52      1025\n",
      "      POLITICS       0.51      0.44      0.47       241\n",
      "    WEIRD NEWS       0.48      0.41      0.44       974\n",
      "  BLACK VOICES       0.59      0.53      0.56       774\n",
      "         WOMEN       0.46      0.35      0.40       238\n",
      "        COMEDY       0.62      0.76      0.68      3565\n",
      "  QUEER VOICES       0.48      0.28      0.36       351\n",
      "        SPORTS       0.39      0.28      0.33       340\n",
      "      BUSINESS       0.55      0.44      0.49       692\n",
      "        TRAVEL       0.52      0.63      0.57      1709\n",
      "         MEDIA       0.33      0.22      0.27       665\n",
      "          TECH       0.59      0.28      0.38       290\n",
      "      RELIGION       0.58      0.44      0.50       724\n",
      "       SCIENCE       0.54      0.59      0.57       986\n",
      " LATINO VOICES       0.71      0.83      0.77      8220\n",
      "     EDUCATION       0.75      0.67      0.71      1246\n",
      "       COLLEGE       0.60      0.47      0.53       703\n",
      "       PARENTS       0.56      0.41      0.47       354\n",
      "ARTS & CULTURE       0.69      0.66      0.68       993\n",
      "         STYLE       0.57      0.52      0.54       588\n",
      "         GREEN       0.68      0.60      0.64       535\n",
      "         TASTE       0.51      0.35      0.42       305\n",
      "HEALTHY LIVING       0.60      0.53      0.56       535\n",
      "     WORLDPOST       0.41      0.34      0.37       678\n",
      "     GOOD NEWS       0.40      0.38      0.39       825\n",
      "         FIFTY       0.41      0.28      0.33       526\n",
      "          ARTS       0.58      0.57      0.57      1557\n",
      "\n",
      "   avg / total       0.59      0.61      0.59     31248\n",
      "\n"
     ]
    }
   ],
   "source": [
    "print(\"Accuracy score: \", accuracy_score(Y_test, predictions_logr))\n",
    "print(\"Recall score: \", recall_score(Y_test, predictions_logr, average = 'weighted'))\n",
    "print(\"Precision score: \", precision_score(Y_test, predictions_logr, average = 'weighted'))\n",
    "print(\"F1 score: \", f1_score(Y_test, predictions_logr, average = 'weighted'))\n",
    "print(\"\\n\")\n",
    "print(classification_report(Y_test, predictions_logr, target_names=df['category'].unique()))"
   ]
  },
  {
   "cell_type": "markdown",
   "metadata": {},
   "source": [
    "<h3>4. Decision Tree</h3>"
   ]
  },
  {
   "cell_type": "code",
   "execution_count": 18,
   "metadata": {},
   "outputs": [
    {
     "data": {
      "text/plain": [
       "DecisionTreeClassifier(class_weight=None, criterion='gini', max_depth=None,\n",
       "            max_features=None, max_leaf_nodes=None,\n",
       "            min_impurity_decrease=0.0, min_impurity_split=None,\n",
       "            min_samples_leaf=1, min_samples_split=2,\n",
       "            min_weight_fraction_leaf=0.0, presort=False, random_state=None,\n",
       "            splitter='best')"
      ]
     },
     "execution_count": 18,
     "metadata": {},
     "output_type": "execute_result"
    }
   ],
   "source": [
    "from sklearn.tree import DecisionTreeClassifier\n",
    "\n",
    "decision_tree = DecisionTreeClassifier()\n",
    "decision_tree.fit(training_data, Y_train)"
   ]
  },
  {
   "cell_type": "code",
   "execution_count": 19,
   "metadata": {},
   "outputs": [
    {
     "data": {
      "text/plain": [
       "array([ 8, 24, 17, ...,  9,  8,  8])"
      ]
     },
     "execution_count": 19,
     "metadata": {},
     "output_type": "execute_result"
    }
   ],
   "source": [
    "predictions_tree = decision_tree.predict(testing_data)\n",
    "predictions_tree"
   ]
  },
  {
   "cell_type": "code",
   "execution_count": 20,
   "metadata": {},
   "outputs": [
    {
     "name": "stdout",
     "output_type": "stream",
     "text": [
      "Accuracy score:  0.4690220174091142\n",
      "Recall score:  0.4690220174091142\n",
      "Precision score:  0.45507242581758134\n",
      "F1 score:  0.458875560990765\n",
      "\n",
      "\n",
      "                precision    recall  f1-score   support\n",
      "\n",
      "         CRIME       0.25      0.21      0.23       364\n",
      " ENTERTAINMENT       0.28      0.16      0.20       326\n",
      "    WORLD NEWS       0.34      0.27      0.30       919\n",
      "        IMPACT       0.31      0.34      0.32      1025\n",
      "      POLITICS       0.33      0.34      0.33       241\n",
      "    WEIRD NEWS       0.26      0.33      0.29       974\n",
      "  BLACK VOICES       0.37      0.32      0.34       774\n",
      "         WOMEN       0.30      0.27      0.29       238\n",
      "        COMEDY       0.50      0.59      0.54      3565\n",
      "  QUEER VOICES       0.18      0.09      0.12       351\n",
      "        SPORTS       0.13      0.10      0.11       340\n",
      "      BUSINESS       0.34      0.26      0.29       692\n",
      "        TRAVEL       0.36      0.42      0.39      1709\n",
      "         MEDIA       0.18      0.12      0.15       665\n",
      "          TECH       0.28      0.12      0.17       290\n",
      "      RELIGION       0.38      0.29      0.33       724\n",
      "       SCIENCE       0.42      0.48      0.45       986\n",
      " LATINO VOICES       0.66      0.73      0.69      8220\n",
      "     EDUCATION       0.63      0.60      0.62      1246\n",
      "       COLLEGE       0.46      0.31      0.37       703\n",
      "       PARENTS       0.35      0.28      0.31       354\n",
      "ARTS & CULTURE       0.51      0.50      0.50       993\n",
      "         STYLE       0.37      0.36      0.37       588\n",
      "         GREEN       0.46      0.43      0.44       535\n",
      "         TASTE       0.37      0.27      0.31       305\n",
      "HEALTHY LIVING       0.37      0.33      0.35       535\n",
      "     WORLDPOST       0.17      0.17      0.17       678\n",
      "     GOOD NEWS       0.29      0.28      0.28       825\n",
      "         FIFTY       0.28      0.17      0.21       526\n",
      "          ARTS       0.42      0.42      0.42      1557\n",
      "\n",
      "   avg / total       0.46      0.47      0.46     31248\n",
      "\n"
     ]
    }
   ],
   "source": [
    "print(\"Accuracy score: \", accuracy_score(Y_test, predictions_tree))\n",
    "print(\"Recall score: \", recall_score(Y_test, predictions_tree, average = 'weighted'))\n",
    "print(\"Precision score: \", precision_score(Y_test, predictions_tree, average = 'weighted'))\n",
    "print(\"F1 score: \", f1_score(Y_test, predictions_tree, average = 'weighted'))\n",
    "print(\"\\n\")\n",
    "print(classification_report(Y_test, predictions_tree, target_names=df['category'].unique()))"
   ]
  },
  {
   "cell_type": "markdown",
   "metadata": {},
   "source": [
    "<h3> 5. SVM</h3>"
   ]
  },
  {
   "cell_type": "code",
   "execution_count": 21,
   "metadata": {},
   "outputs": [
    {
     "data": {
      "text/plain": [
       "LinearSVC(C=1.0, class_weight=None, dual=True, fit_intercept=True,\n",
       "     intercept_scaling=1, loss='squared_hinge', max_iter=1000,\n",
       "     multi_class='ovr', penalty='l2', random_state=None, tol=0.0001,\n",
       "     verbose=0)"
      ]
     },
     "execution_count": 21,
     "metadata": {},
     "output_type": "execute_result"
    }
   ],
   "source": [
    "from sklearn import svm\n",
    "\n",
    "svm = svm.LinearSVC()\n",
    "svm.fit(training_data, Y_train)"
   ]
  },
  {
   "cell_type": "code",
   "execution_count": 22,
   "metadata": {},
   "outputs": [
    {
     "data": {
      "text/plain": [
       "array([ 8,  8, 19, ...,  8,  8,  8])"
      ]
     },
     "execution_count": 22,
     "metadata": {},
     "output_type": "execute_result"
    }
   ],
   "source": [
    "predictions_svm = svm.predict(testing_data)\n",
    "predictions_svm"
   ]
  },
  {
   "cell_type": "code",
   "execution_count": 23,
   "metadata": {},
   "outputs": [
    {
     "name": "stdout",
     "output_type": "stream",
     "text": [
      "Accuracy score:  0.5626920122887865\n",
      "Recall score:  0.5626920122887865\n",
      "Precision score:  0.5533254429191865\n",
      "F1 score:  0.5568456457554334\n",
      "\n",
      "\n",
      "                precision    recall  f1-score   support\n",
      "\n",
      "         CRIME       0.40      0.32      0.36       364\n",
      " ENTERTAINMENT       0.24      0.17      0.20       326\n",
      "    WORLD NEWS       0.41      0.39      0.40       919\n",
      "        IMPACT       0.44      0.47      0.45      1025\n",
      "      POLITICS       0.38      0.39      0.39       241\n",
      "    WEIRD NEWS       0.41      0.40      0.40       974\n",
      "  BLACK VOICES       0.52      0.50      0.51       774\n",
      "         WOMEN       0.36      0.32      0.34       238\n",
      "        COMEDY       0.63      0.67      0.65      3565\n",
      "  QUEER VOICES       0.36      0.32      0.33       351\n",
      "        SPORTS       0.27      0.27      0.27       340\n",
      "      BUSINESS       0.45      0.38      0.41       692\n",
      "        TRAVEL       0.49      0.56      0.52      1709\n",
      "         MEDIA       0.27      0.21      0.24       665\n",
      "          TECH       0.45      0.31      0.37       290\n",
      "      RELIGION       0.49      0.43      0.46       724\n",
      "       SCIENCE       0.51      0.54      0.53       986\n",
      " LATINO VOICES       0.72      0.78      0.75      8220\n",
      "     EDUCATION       0.66      0.66      0.66      1246\n",
      "       COLLEGE       0.50      0.44      0.47       703\n",
      "       PARENTS       0.46      0.41      0.43       354\n",
      "ARTS & CULTURE       0.64      0.62      0.63       993\n",
      "         STYLE       0.52      0.51      0.51       588\n",
      "         GREEN       0.63      0.58      0.60       535\n",
      "         TASTE       0.43      0.36      0.39       305\n",
      "HEALTHY LIVING       0.54      0.52      0.53       535\n",
      "     WORLDPOST       0.34      0.28      0.30       678\n",
      "     GOOD NEWS       0.33      0.32      0.32       825\n",
      "         FIFTY       0.31      0.27      0.29       526\n",
      "          ARTS       0.53      0.53      0.53      1557\n",
      "\n",
      "   avg / total       0.55      0.56      0.56     31248\n",
      "\n"
     ]
    }
   ],
   "source": [
    "print(\"Accuracy score: \", accuracy_score(Y_test, predictions_svm))\n",
    "print(\"Recall score: \", recall_score(Y_test, predictions_svm, average = 'weighted'))\n",
    "print(\"Precision score: \", precision_score(Y_test, predictions_svm, average = 'weighted'))\n",
    "print(\"F1 score: \", f1_score(Y_test, predictions_svm, average = 'weighted'))\n",
    "print(\"\\n\")\n",
    "print(classification_report(Y_test, predictions_svm, target_names=df['category'].unique()))"
   ]
  },
  {
   "cell_type": "markdown",
   "metadata": {},
   "source": [
    "<h3>6. Random Forest</h3>"
   ]
  },
  {
   "cell_type": "code",
   "execution_count": 24,
   "metadata": {},
   "outputs": [
    {
     "data": {
      "text/plain": [
       "RandomForestClassifier(bootstrap=True, class_weight=None, criterion='gini',\n",
       "            max_depth=None, max_features='auto', max_leaf_nodes=None,\n",
       "            min_impurity_decrease=0.0, min_impurity_split=None,\n",
       "            min_samples_leaf=1, min_samples_split=2,\n",
       "            min_weight_fraction_leaf=0.0, n_estimators=10, n_jobs=1,\n",
       "            oob_score=False, random_state=None, verbose=0,\n",
       "            warm_start=False)"
      ]
     },
     "execution_count": 24,
     "metadata": {},
     "output_type": "execute_result"
    }
   ],
   "source": [
    "from sklearn.ensemble import RandomForestClassifier\n",
    "\n",
    "random_forest = RandomForestClassifier()\n",
    "random_forest.fit(training_data, Y_train)"
   ]
  },
  {
   "cell_type": "code",
   "execution_count": 25,
   "metadata": {},
   "outputs": [
    {
     "data": {
      "text/plain": [
       "array([ 6,  8, 17, ..., 17,  8,  8])"
      ]
     },
     "execution_count": 25,
     "metadata": {},
     "output_type": "execute_result"
    }
   ],
   "source": [
    "predictions_randomforest = random_forest.predict(testing_data)\n",
    "predictions_randomforest"
   ]
  },
  {
   "cell_type": "code",
   "execution_count": 26,
   "metadata": {},
   "outputs": [
    {
     "name": "stdout",
     "output_type": "stream",
     "text": [
      "Accuracy score:  0.5158730158730159\n",
      "Recall score:  0.5158730158730159\n",
      "Precision score:  0.5006566455540259\n",
      "F1 score:  0.48956738947088724\n",
      "\n",
      "\n",
      "                precision    recall  f1-score   support\n",
      "\n",
      "         CRIME       0.23      0.24      0.23       364\n",
      " ENTERTAINMENT       0.28      0.08      0.12       326\n",
      "    WORLD NEWS       0.34      0.24      0.28       919\n",
      "        IMPACT       0.35      0.43      0.39      1025\n",
      "      POLITICS       0.31      0.44      0.36       241\n",
      "    WEIRD NEWS       0.30      0.33      0.31       974\n",
      "  BLACK VOICES       0.42      0.43      0.42       774\n",
      "         WOMEN       0.33      0.26      0.29       238\n",
      "        COMEDY       0.51      0.69      0.58      3565\n",
      "  QUEER VOICES       0.29      0.15      0.19       351\n",
      "        SPORTS       0.17      0.06      0.09       340\n",
      "      BUSINESS       0.41      0.25      0.31       692\n",
      "        TRAVEL       0.37      0.54      0.44      1709\n",
      "         MEDIA       0.27      0.10      0.15       665\n",
      "          TECH       0.49      0.08      0.13       290\n",
      "      RELIGION       0.57      0.30      0.39       724\n",
      "       SCIENCE       0.43      0.50      0.46       986\n",
      " LATINO VOICES       0.64      0.85      0.73      8220\n",
      "     EDUCATION       0.77      0.58      0.66      1246\n",
      "       COLLEGE       0.56      0.34      0.42       703\n",
      "       PARENTS       0.49      0.29      0.36       354\n",
      "ARTS & CULTURE       0.61      0.51      0.55       993\n",
      "         STYLE       0.42      0.32      0.37       588\n",
      "         GREEN       0.54      0.44      0.49       535\n",
      "         TASTE       0.59      0.23      0.33       305\n",
      "HEALTHY LIVING       0.48      0.32      0.39       535\n",
      "     WORLDPOST       0.26      0.10      0.14       678\n",
      "     GOOD NEWS       0.38      0.26      0.31       825\n",
      "         FIFTY       0.54      0.10      0.18       526\n",
      "          ARTS       0.54      0.37      0.44      1557\n",
      "\n",
      "   avg / total       0.50      0.52      0.49     31248\n",
      "\n"
     ]
    }
   ],
   "source": [
    "print(\"Accuracy score: \", accuracy_score(Y_test, predictions_randomforest))\n",
    "print(\"Recall score: \", recall_score(Y_test, predictions_randomforest, average = 'weighted'))\n",
    "print(\"Precision score: \", precision_score(Y_test, predictions_randomforest, average = 'weighted'))\n",
    "print(\"F1 score: \", f1_score(Y_test, predictions_randomforest, average = 'weighted'))\n",
    "print(\"\\n\")\n",
    "print(classification_report(Y_test, predictions_randomforest, target_names=df['category'].unique()))"
   ]
  }
 ],
 "metadata": {
  "kernelspec": {
   "display_name": "Python 3",
   "language": "python",
   "name": "python3"
  },
  "language_info": {
   "codemirror_mode": {
    "name": "ipython",
    "version": 3
   },
   "file_extension": ".py",
   "mimetype": "text/x-python",
   "name": "python",
   "nbconvert_exporter": "python",
   "pygments_lexer": "ipython3",
   "version": "3.6.4"
  }
 },
 "nbformat": 4,
 "nbformat_minor": 2
}
